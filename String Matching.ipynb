{
 "cells": [
  {
   "cell_type": "markdown",
   "id": "c2e29e66",
   "metadata": {},
   "source": [
    "## Sequence Based Metrics\n",
    "---"
   ]
  },
  {
   "cell_type": "markdown",
   "id": "4bab7717",
   "metadata": {},
   "source": [
    "### Entity Resoultion using PyPi Edit Distance"
   ]
  },
  {
   "cell_type": "code",
   "execution_count": null,
   "id": "d28b94c3",
   "metadata": {},
   "outputs": [],
   "source": [
    "!pip install networkx==2.5\n",
    "!pip install edit-distance==1.0.4\n",
    "!pip install pandas==1.1.3"
   ]
  },
  {
   "cell_type": "code",
   "execution_count": 3,
   "id": "723f3fd8",
   "metadata": {},
   "outputs": [],
   "source": [
    "import edit_distance  # Levenshtein distance\n",
    "import pandas as pd"
   ]
  },
  {
   "cell_type": "code",
   "execution_count": 4,
   "id": "2b079752",
   "metadata": {},
   "outputs": [],
   "source": [
    "actual_names = ['Los Angeles','New York City','Bangalore','Mumbai','Chennai','Kolkata','New Delhi',\\\n",
    "                'Saint Petersburg','Melbourne','Gothenburg','Vienna','Barcelona','Las Vegas']\n",
    "\n",
    "input_names = ['City of Los Angeles','New York','Bengaluru','Bombay','Madras','Calutta','Delhi',\\\n",
    "               'St. Petersburg','Melborne','Goteborg','Wien','Barca', 'Las Vegas']"
   ]
  },
  {
   "cell_type": "code",
   "execution_count": 5,
   "id": "6bd836f5",
   "metadata": {},
   "outputs": [],
   "source": [
    "def edit_dist_metrics(actual_names, input_names, threshold):\n",
    "    '''\n",
    "    input:  list : actual_names list\n",
    "            list : input_names list\n",
    "            float : threshold value for similarity score 0 <= threshold <= 1\n",
    "            \n",
    "    The function compares every string in actual_names with every string in input_names\n",
    "    using edit_distance and provides a similarity score. If the score is more than or equal to a \n",
    "    given threshold, the two strings are matched as the same entity and compared with ground truth results.\n",
    "    The results, precision and recall is printed out.\n",
    "    '''\n",
    "    res = []\n",
    "    for i, a_name in enumerate(actual_names):\n",
    "        for j, i_name in enumerate(input_names):\n",
    "            r = edit_distance.SequenceMatcher(a_name.lower(), i_name.lower()).ratio()\n",
    "            if r >= threshold:\n",
    "                res.append([i_name, a_name, r, i==j])\n",
    "\n",
    "    df = pd.DataFrame(res, columns=['Input Name','Predicted Name','Similarity Score','Ground Truth'])\n",
    "    precision = round(sum(df['Ground Truth'])/len(df),3)\n",
    "    recall = round(sum(df['Ground Truth'])/len(actual_names),3)\n",
    "    print(df,'\\n')\n",
    "    print(\"Precision: \"+str(precision))\n",
    "    print(\"Recall: \"+str(recall))\n",
    "    return"
   ]
  },
  {
   "cell_type": "markdown",
   "id": "71e9c79f",
   "metadata": {},
   "source": [
    "### The entity resolution is run for different threshold values\n",
    "\n",
    "### The function takes in a threshold value which is the similarity score for a pair of strings above which they are predicted as matches. The threshold value can range from 0 to 1 where 1 is a perfect match."
   ]
  },
  {
   "cell_type": "code",
   "execution_count": 6,
   "id": "0be597c1",
   "metadata": {},
   "outputs": [
    {
     "name": "stdout",
     "output_type": "stream",
     "text": [
      "             Input Name    Predicted Name  Similarity Score  Ground Truth\n",
      "0   City of Los Angeles       Los Angeles          0.733333          True\n",
      "1             Las Vegas       Los Angeles          0.500000         False\n",
      "2              New York     New York City          0.761905          True\n",
      "3             Bengaluru         Bangalore          0.666667          True\n",
      "4                 Barca         Bangalore          0.428571         False\n",
      "5                Bombay            Mumbai          0.500000          True\n",
      "6               Calutta           Kolkata          0.428571          True\n",
      "7              New York         New Delhi          0.470588         False\n",
      "8                 Delhi         New Delhi          0.714286          True\n",
      "9        St. Petersburg  Saint Petersburg          0.800000          True\n",
      "10             Goteborg  Saint Petersburg          0.416667         False\n",
      "11             Melborne         Melbourne          0.941176          True\n",
      "12       St. Petersburg        Gothenburg          0.416667         False\n",
      "13             Goteborg        Gothenburg          0.777778          True\n",
      "14            Bengaluru            Vienna          0.400000         False\n",
      "15                 Wien            Vienna          0.600000          True\n",
      "16             Melborne         Barcelona          0.470588         False\n",
      "17                Barca         Barcelona          0.714286          True\n",
      "18               Madras         Las Vegas          0.400000         False\n",
      "19            Las Vegas         Las Vegas          1.000000          True \n",
      "\n",
      "Precision: 0.6\n",
      "Recall: 0.923\n"
     ]
    }
   ],
   "source": [
    "edit_dist_metrics(actual_names,input_names,0.4)"
   ]
  },
  {
   "cell_type": "code",
   "execution_count": 7,
   "id": "b5963df4",
   "metadata": {},
   "outputs": [
    {
     "name": "stdout",
     "output_type": "stream",
     "text": [
      "             Input Name    Predicted Name  Similarity Score  Ground Truth\n",
      "0   City of Los Angeles       Los Angeles          0.733333          True\n",
      "1             Las Vegas       Los Angeles          0.500000         False\n",
      "2              New York     New York City          0.761905          True\n",
      "3             Bengaluru         Bangalore          0.666667          True\n",
      "4                Bombay            Mumbai          0.500000          True\n",
      "5                 Delhi         New Delhi          0.714286          True\n",
      "6        St. Petersburg  Saint Petersburg          0.800000          True\n",
      "7              Melborne         Melbourne          0.941176          True\n",
      "8              Goteborg        Gothenburg          0.777778          True\n",
      "9                  Wien            Vienna          0.600000          True\n",
      "10                Barca         Barcelona          0.714286          True\n",
      "11            Las Vegas         Las Vegas          1.000000          True \n",
      "\n",
      "Precision: 0.917\n",
      "Recall: 0.846\n"
     ]
    }
   ],
   "source": [
    "edit_dist_metrics(actual_names,input_names,0.5)"
   ]
  },
  {
   "cell_type": "code",
   "execution_count": 8,
   "id": "da2c42df",
   "metadata": {},
   "outputs": [
    {
     "name": "stdout",
     "output_type": "stream",
     "text": [
      "            Input Name    Predicted Name  Similarity Score  Ground Truth\n",
      "0  City of Los Angeles       Los Angeles          0.733333          True\n",
      "1             New York     New York City          0.761905          True\n",
      "2            Bengaluru         Bangalore          0.666667          True\n",
      "3                Delhi         New Delhi          0.714286          True\n",
      "4       St. Petersburg  Saint Petersburg          0.800000          True\n",
      "5             Melborne         Melbourne          0.941176          True\n",
      "6             Goteborg        Gothenburg          0.777778          True\n",
      "7                 Wien            Vienna          0.600000          True\n",
      "8                Barca         Barcelona          0.714286          True\n",
      "9            Las Vegas         Las Vegas          1.000000          True \n",
      "\n",
      "Precision: 1.0\n",
      "Recall: 0.769\n"
     ]
    }
   ],
   "source": [
    "edit_dist_metrics(actual_names,input_names,0.6)"
   ]
  },
  {
   "cell_type": "code",
   "execution_count": 9,
   "id": "08c9e855",
   "metadata": {},
   "outputs": [
    {
     "name": "stdout",
     "output_type": "stream",
     "text": [
      "            Input Name    Predicted Name  Similarity Score  Ground Truth\n",
      "0  City of Los Angeles       Los Angeles          0.733333          True\n",
      "1             New York     New York City          0.761905          True\n",
      "2                Delhi         New Delhi          0.714286          True\n",
      "3       St. Petersburg  Saint Petersburg          0.800000          True\n",
      "4             Melborne         Melbourne          0.941176          True\n",
      "5             Goteborg        Gothenburg          0.777778          True\n",
      "6                Barca         Barcelona          0.714286          True\n",
      "7            Las Vegas         Las Vegas          1.000000          True \n",
      "\n",
      "Precision: 1.0\n",
      "Recall: 0.615\n"
     ]
    }
   ],
   "source": [
    "edit_dist_metrics(actual_names,input_names,0.7)"
   ]
  },
  {
   "cell_type": "markdown",
   "id": "ab365a3e",
   "metadata": {},
   "source": [
    "### As the threshold increases, we can see that the precision increases but the recall decreases. A threshold value of 0.6 is ideal as it gives 100% precision with a good recall."
   ]
  },
  {
   "cell_type": "markdown",
   "id": "9b2445b3",
   "metadata": {},
   "source": [
    "### This threshold of 0.6 can comfortably resolve names local names against official names like 'Goteborg' v 'Gothernburg' and 'Bangalore' v 'Bengaluru' while disambiguating similar but different names like 'Los Angeles' and 'Las Vegas' . It also resolves spelling mistakes like 'Melborne' and short form of names like 'St. Petersburg'."
   ]
  },
  {
   "cell_type": "markdown",
   "id": "b00ca093",
   "metadata": {},
   "source": [
    "---"
   ]
  },
  {
   "cell_type": "markdown",
   "id": "e511c809",
   "metadata": {},
   "source": [
    "## Set Based Metrics"
   ]
  },
  {
   "cell_type": "markdown",
   "id": "1a80d81a",
   "metadata": {},
   "source": [
    "### 1. Jaccard Index"
   ]
  },
  {
   "cell_type": "code",
   "execution_count": 17,
   "id": "8bdc4069",
   "metadata": {},
   "outputs": [
    {
     "name": "stdout",
     "output_type": "stream",
     "text": [
      "Los Angeles, City of Los Angeles\n"
     ]
    }
   ],
   "source": [
    "import copy\n",
    "tokens_1 = actual_names[0]\n",
    "tokens_2 = input_names[0]\n",
    "print(f\"{tokens_1}, {tokens_2}\")"
   ]
  },
  {
   "cell_type": "code",
   "execution_count": 18,
   "id": "f006d8d1",
   "metadata": {},
   "outputs": [
    {
     "data": {
      "text/plain": [
       "0.5"
      ]
     },
     "execution_count": 18,
     "metadata": {},
     "output_type": "execute_result"
    }
   ],
   "source": [
    "tokens_1 = set(tokens_1.split(\" \"))\n",
    "tokens_2 = set(tokens_2.split(\" \"))\n",
    "\n",
    "jaccard_sim = len(copy.deepcopy(tokens_1).intersection(tokens_2)) / len(copy.deepcopy(tokens_1).union(tokens_2))"
   ]
  },
  {
   "cell_type": "markdown",
   "id": "e50aa3a9",
   "metadata": {},
   "source": [
    "### 2. TF-IDF"
   ]
  },
  {
   "cell_type": "code",
   "execution_count": null,
   "id": "3e3fa8c7",
   "metadata": {},
   "outputs": [],
   "source": [
    "!pip install spacy scikit-learn # install sklearn for a built-in TF-IDF implementation"
   ]
  },
  {
   "cell_type": "code",
   "execution_count": 38,
   "id": "85ff019c",
   "metadata": {},
   "outputs": [],
   "source": [
    "desc_1 = \"mia's math adventure tells a captivating story with educational activities. games focus on developing math skills such as fractions geometry logic and mental computation. oh no! mia's house has just burnt down! but how could such a thing have ... \"\n",
    "desc_2 = \"in mia's math adventure: just in time children will help mia save her house by using their math skills!\""
   ]
  },
  {
   "cell_type": "code",
   "execution_count": 41,
   "id": "8105ff73",
   "metadata": {},
   "outputs": [],
   "source": [
    "from sklearn.feature_extraction.text import TfidfVectorizer"
   ]
  },
  {
   "cell_type": "code",
   "execution_count": 129,
   "id": "e7e07fe5",
   "metadata": {},
   "outputs": [],
   "source": [
    "def getTFIDFVector(doc):\n",
    "    vectorizer = TfidfVectorizer()\n",
    "    tfidf_matrix = vectorizer.fit_transform(doc)\n",
    "\n",
    "    feature_names = vectorizer.get_feature_names()\n",
    "    return len(feature_names), feature_names, tfidf_matrix, vectorizer"
   ]
  },
  {
   "cell_type": "code",
   "execution_count": 130,
   "id": "f6647dc5",
   "metadata": {},
   "outputs": [
    {
     "name": "stdout",
     "output_type": "stream",
     "text": [
      "25 ['activity', 'adventure', 'burn', 'captivate', 'child', 'computation', 'develop', 'educational', 'focus', 'fraction', 'game', 'geometry', 'help', 'house', 'logic', 'math', 'mental', 'mia', 'oh', 'save', 'skill', 'story', 'tell', 'thing', 'time']\n",
      "tfidf for desc_1: [[0.21532189 0.1532033  0.21532189 0.21532189 0.         0.21532189\n",
      "  0.21532189 0.21532189 0.21532189 0.21532189 0.21532189 0.21532189\n",
      "  0.         0.1532033  0.21532189 0.30640659 0.21532189 0.30640659\n",
      "  0.21532189 0.         0.1532033  0.21532189 0.21532189 0.21532189\n",
      "  0.        ]]\n",
      "tfidf for desc_2: [[0.         0.23001377 0.         0.         0.32327633 0.\n",
      "  0.         0.         0.         0.         0.         0.\n",
      "  0.32327633 0.23001377 0.         0.46002754 0.         0.46002754\n",
      "  0.         0.32327633 0.23001377 0.         0.         0.\n",
      "  0.32327633]]\n",
      "mia math adventure tell captivate story educational activity game focus develop math skill fraction geometry logic mental computation oh mia house burn thing\n",
      "Feature: thing, TF-IDF Value: 0.2153218881458027\n",
      "Feature: burn, TF-IDF Value: 0.2153218881458027\n",
      "Feature: house, TF-IDF Value: 0.15320329683291686\n",
      "Feature: oh, TF-IDF Value: 0.2153218881458027\n",
      "Feature: computation, TF-IDF Value: 0.2153218881458027\n",
      "Feature: mental, TF-IDF Value: 0.2153218881458027\n",
      "Feature: logic, TF-IDF Value: 0.2153218881458027\n",
      "Feature: geometry, TF-IDF Value: 0.2153218881458027\n",
      "Feature: fraction, TF-IDF Value: 0.2153218881458027\n",
      "Feature: skill, TF-IDF Value: 0.15320329683291686\n",
      "Feature: develop, TF-IDF Value: 0.2153218881458027\n",
      "Feature: focus, TF-IDF Value: 0.2153218881458027\n",
      "Feature: game, TF-IDF Value: 0.2153218881458027\n",
      "Feature: activity, TF-IDF Value: 0.2153218881458027\n",
      "Feature: educational, TF-IDF Value: 0.2153218881458027\n",
      "Feature: story, TF-IDF Value: 0.2153218881458027\n",
      "Feature: captivate, TF-IDF Value: 0.2153218881458027\n",
      "Feature: tell, TF-IDF Value: 0.2153218881458027\n",
      "Feature: adventure, TF-IDF Value: 0.15320329683291686\n",
      "Feature: math, TF-IDF Value: 0.3064065936658337\n",
      "Feature: mia, TF-IDF Value: 0.3064065936658337\n",
      "mia math adventure time child help mia save house math skill\n",
      "Feature: save, TF-IDF Value: 0.32327632560186453\n",
      "Feature: help, TF-IDF Value: 0.32327632560186453\n",
      "Feature: child, TF-IDF Value: 0.32327632560186453\n",
      "Feature: time, TF-IDF Value: 0.32327632560186453\n",
      "Feature: house, TF-IDF Value: 0.2300137682087411\n",
      "Feature: skill, TF-IDF Value: 0.2300137682087411\n",
      "Feature: adventure, TF-IDF Value: 0.2300137682087411\n",
      "Feature: math, TF-IDF Value: 0.4600275364174822\n",
      "Feature: mia, TF-IDF Value: 0.4600275364174822\n"
     ]
    }
   ],
   "source": [
    "doc = [desc_1, desc_2]\n",
    "len_feature, feature_names, tfidf_matrix, vectorizer = getTFIDFVector(doc)\n",
    "print(len_feature, feature_names)\n",
    "desc_1_tfidf = tfidf_matrix[0].toarray()\n",
    "desc_2_tfidf = tfidf_matrix[1].toarray()\n",
    "print(f\"tfidf for desc_1: {desc_1_tfidf}\")\n",
    "print(f\"tfidf for desc_2: {desc_2_tfidf}\")\n",
    "\n",
    "for i in range(2):\n",
    "    print([desc_1, desc_2][i])\n",
    "    tfidf_vector = tfidf_matrix[i]\n",
    "    for feature_index, tfidf_value in zip(tfidf_vector.indices, tfidf_vector.data):\n",
    "        feature_name = feature_names[feature_index]\n",
    "        print(f\"Feature: {feature_name}, TF-IDF Value: {tfidf_value}\")"
   ]
  },
  {
   "cell_type": "code",
   "execution_count": 131,
   "id": "9ef42115",
   "metadata": {},
   "outputs": [],
   "source": [
    "from sklearn.metrics.pairwise import cosine_similarity"
   ]
  },
  {
   "cell_type": "code",
   "execution_count": 132,
   "id": "65dcf049",
   "metadata": {},
   "outputs": [
    {
     "name": "stdout",
     "output_type": "stream",
     "text": [
      "[[0.38762754]]\n"
     ]
    }
   ],
   "source": [
    "print(cosine_similarity(desc_1_tfidf, desc_2_tfidf))"
   ]
  },
  {
   "cell_type": "code",
   "execution_count": 133,
   "id": "7d3465d8",
   "metadata": {},
   "outputs": [],
   "source": [
    "\"\"\"Remove Stop Words\"\"\"\n",
    "import spacy\n",
    "nlp = spacy.load(\"en_core_web_sm\")\n",
    "def preprocess(text):\n",
    "    doc = nlp(text)\n",
    "    processed_text = \" \".join(token.lemma_.lower() for token in doc if not token.is_stop and not token.is_punct)\n",
    "    return processed_text"
   ]
  },
  {
   "cell_type": "code",
   "execution_count": 134,
   "id": "f4fb1b3e",
   "metadata": {},
   "outputs": [],
   "source": [
    "desc_1 = preprocess(desc_1)\n",
    "desc_2 = preprocess(desc_2)"
   ]
  },
  {
   "cell_type": "code",
   "execution_count": 135,
   "id": "00791628",
   "metadata": {},
   "outputs": [
    {
     "name": "stdout",
     "output_type": "stream",
     "text": [
      "25 ['activity', 'adventure', 'burn', 'captivate', 'child', 'computation', 'develop', 'educational', 'focus', 'fraction', 'game', 'geometry', 'help', 'house', 'logic', 'math', 'mental', 'mia', 'oh', 'save', 'skill', 'story', 'tell', 'thing', 'time']\n",
      "tfidf for desc_1: [[0.21532189 0.1532033  0.21532189 0.21532189 0.         0.21532189\n",
      "  0.21532189 0.21532189 0.21532189 0.21532189 0.21532189 0.21532189\n",
      "  0.         0.1532033  0.21532189 0.30640659 0.21532189 0.30640659\n",
      "  0.21532189 0.         0.1532033  0.21532189 0.21532189 0.21532189\n",
      "  0.        ]]\n",
      "tfidf for desc_2: [[0.         0.23001377 0.         0.         0.32327633 0.\n",
      "  0.         0.         0.         0.         0.         0.\n",
      "  0.32327633 0.23001377 0.         0.46002754 0.         0.46002754\n",
      "  0.         0.32327633 0.23001377 0.         0.         0.\n",
      "  0.32327633]]\n",
      "mia math adventure tell captivate story educational activity game focus develop math skill fraction geometry logic mental computation oh mia house burn thing\n",
      "Feature: thing, TF-IDF Value: 0.2153218881458027\n",
      "Feature: burn, TF-IDF Value: 0.2153218881458027\n",
      "Feature: house, TF-IDF Value: 0.15320329683291686\n",
      "Feature: oh, TF-IDF Value: 0.2153218881458027\n",
      "Feature: computation, TF-IDF Value: 0.2153218881458027\n",
      "Feature: mental, TF-IDF Value: 0.2153218881458027\n",
      "Feature: logic, TF-IDF Value: 0.2153218881458027\n",
      "Feature: geometry, TF-IDF Value: 0.2153218881458027\n",
      "Feature: fraction, TF-IDF Value: 0.2153218881458027\n",
      "Feature: skill, TF-IDF Value: 0.15320329683291686\n",
      "Feature: develop, TF-IDF Value: 0.2153218881458027\n",
      "Feature: focus, TF-IDF Value: 0.2153218881458027\n",
      "Feature: game, TF-IDF Value: 0.2153218881458027\n",
      "Feature: activity, TF-IDF Value: 0.2153218881458027\n",
      "Feature: educational, TF-IDF Value: 0.2153218881458027\n",
      "Feature: story, TF-IDF Value: 0.2153218881458027\n",
      "Feature: captivate, TF-IDF Value: 0.2153218881458027\n",
      "Feature: tell, TF-IDF Value: 0.2153218881458027\n",
      "Feature: adventure, TF-IDF Value: 0.15320329683291686\n",
      "Feature: math, TF-IDF Value: 0.3064065936658337\n",
      "Feature: mia, TF-IDF Value: 0.3064065936658337\n",
      "mia math adventure time child help mia save house math skill\n",
      "Feature: save, TF-IDF Value: 0.32327632560186453\n",
      "Feature: help, TF-IDF Value: 0.32327632560186453\n",
      "Feature: child, TF-IDF Value: 0.32327632560186453\n",
      "Feature: time, TF-IDF Value: 0.32327632560186453\n",
      "Feature: house, TF-IDF Value: 0.2300137682087411\n",
      "Feature: skill, TF-IDF Value: 0.2300137682087411\n",
      "Feature: adventure, TF-IDF Value: 0.2300137682087411\n",
      "Feature: math, TF-IDF Value: 0.4600275364174822\n",
      "Feature: mia, TF-IDF Value: 0.4600275364174822\n"
     ]
    },
    {
     "name": "stderr",
     "output_type": "stream",
     "text": [
      "/Users/keshen/opt/anaconda3/lib/python3.8/site-packages/sklearn/utils/deprecation.py:87: FutureWarning: Function get_feature_names is deprecated; get_feature_names is deprecated in 1.0 and will be removed in 1.2. Please use get_feature_names_out instead.\n",
      "  warnings.warn(msg, category=FutureWarning)\n"
     ]
    }
   ],
   "source": [
    "doc = [desc_1, desc_2]\n",
    "len_feature, feature_names, tfidf_matrix, vectorizer = getTFIDFVector(doc)\n",
    "print(len_feature, feature_names)\n",
    "desc_1_tfidf = tfidf_matrix[0].toarray()\n",
    "desc_2_tfidf = tfidf_matrix[1].toarray()\n",
    "print(f\"tfidf for desc_1: {desc_1_tfidf}\")\n",
    "print(f\"tfidf for desc_2: {desc_2_tfidf}\")\n",
    "\n",
    "for i in range(2):\n",
    "    print([desc_1, desc_2][i])\n",
    "    tfidf_vector = tfidf_matrix[i]\n",
    "    for feature_index, tfidf_value in zip(tfidf_vector.indices, tfidf_vector.data):\n",
    "        feature_name = feature_names[feature_index]\n",
    "        print(f\"Feature: {feature_name}, TF-IDF Value: {tfidf_value}\")"
   ]
  },
  {
   "cell_type": "code",
   "execution_count": 136,
   "id": "75c8e668",
   "metadata": {},
   "outputs": [
    {
     "name": "stdout",
     "output_type": "stream",
     "text": [
      "[[0.38762754]]\n"
     ]
    }
   ],
   "source": [
    "print(cosine_similarity(desc_1_tfidf, desc_2_tfidf))"
   ]
  },
  {
   "cell_type": "code",
   "execution_count": 137,
   "id": "8ca5ebb3",
   "metadata": {},
   "outputs": [],
   "source": [
    "desc_3 = \"king for a day! fritz is in charge of the castle when his parents go on vacation. it's every kid's dream until the dastardly king black challenges the young stand-in king to a duel! explore the kingdom and discover 7 arcade-style games that explai\""
   ]
  },
  {
   "cell_type": "code",
   "execution_count": 138,
   "id": "174a80cd",
   "metadata": {},
   "outputs": [
    {
     "name": "stdout",
     "output_type": "stream",
     "text": [
      "46 ['activity', 'adventure', 'arcade', 'black', 'burn', 'captivate', 'castle', 'challenge', 'charge', 'child', 'computation', 'dastardly', 'day', 'develop', 'discover', 'dream', 'duel', 'educational', 'explai', 'explore', 'focus', 'fraction', 'fritz', 'game', 'geometry', 'help', 'house', 'kid', 'king', 'kingdom', 'logic', 'math', 'mental', 'mia', 'oh', 'parent', 'save', 'skill', 'stand', 'story', 'style', 'tell', 'thing', 'time', 'vacation', 'young']\n",
      "mia math adventure tell captivate story educational activity game focus develop math skill fraction geometry logic mental computation oh mia house burn thing\n",
      "Feature: thing, TF-IDF Value: 0.21348818025921934\n",
      "Feature: burn, TF-IDF Value: 0.21348818025921934\n",
      "Feature: house, TF-IDF Value: 0.16236326384173902\n",
      "Feature: oh, TF-IDF Value: 0.21348818025921934\n",
      "Feature: computation, TF-IDF Value: 0.21348818025921934\n",
      "Feature: mental, TF-IDF Value: 0.21348818025921934\n",
      "Feature: logic, TF-IDF Value: 0.21348818025921934\n",
      "Feature: geometry, TF-IDF Value: 0.21348818025921934\n",
      "Feature: fraction, TF-IDF Value: 0.21348818025921934\n",
      "Feature: skill, TF-IDF Value: 0.16236326384173902\n",
      "Feature: develop, TF-IDF Value: 0.21348818025921934\n",
      "Feature: focus, TF-IDF Value: 0.21348818025921934\n",
      "Feature: game, TF-IDF Value: 0.16236326384173902\n",
      "Feature: activity, TF-IDF Value: 0.21348818025921934\n",
      "Feature: educational, TF-IDF Value: 0.21348818025921934\n",
      "Feature: story, TF-IDF Value: 0.21348818025921934\n",
      "Feature: captivate, TF-IDF Value: 0.21348818025921934\n",
      "Feature: tell, TF-IDF Value: 0.21348818025921934\n",
      "Feature: adventure, TF-IDF Value: 0.16236326384173902\n",
      "Feature: math, TF-IDF Value: 0.32472652768347804\n",
      "Feature: mia, TF-IDF Value: 0.32472652768347804\n",
      "mia math adventure time child help mia save house math skill\n",
      "Feature: save, TF-IDF Value: 0.31064899242519933\n",
      "Feature: help, TF-IDF Value: 0.31064899242519933\n",
      "Feature: child, TF-IDF Value: 0.31064899242519933\n",
      "Feature: time, TF-IDF Value: 0.31064899242519933\n",
      "Feature: house, TF-IDF Value: 0.23625656585793528\n",
      "Feature: skill, TF-IDF Value: 0.23625656585793528\n",
      "Feature: adventure, TF-IDF Value: 0.23625656585793528\n",
      "Feature: math, TF-IDF Value: 0.47251313171587056\n",
      "Feature: mia, TF-IDF Value: 0.47251313171587056\n",
      "king for a day! fritz is in charge of the castle when his parents go on vacation. it's every kid's dream until the dastardly king black challenges the young stand-in king to a duel! explore the kingdom and discover 7 arcade-style games that explai\n",
      "Feature: explai, TF-IDF Value: 0.18387075743895548\n",
      "Feature: style, TF-IDF Value: 0.18387075743895548\n",
      "Feature: arcade, TF-IDF Value: 0.18387075743895548\n",
      "Feature: discover, TF-IDF Value: 0.18387075743895548\n",
      "Feature: kingdom, TF-IDF Value: 0.18387075743895548\n",
      "Feature: explore, TF-IDF Value: 0.18387075743895548\n",
      "Feature: duel, TF-IDF Value: 0.18387075743895548\n",
      "Feature: stand, TF-IDF Value: 0.18387075743895548\n",
      "Feature: young, TF-IDF Value: 0.18387075743895548\n",
      "Feature: challenge, TF-IDF Value: 0.18387075743895548\n",
      "Feature: black, TF-IDF Value: 0.18387075743895548\n",
      "Feature: dastardly, TF-IDF Value: 0.18387075743895548\n",
      "Feature: dream, TF-IDF Value: 0.18387075743895548\n",
      "Feature: kid, TF-IDF Value: 0.18387075743895548\n",
      "Feature: vacation, TF-IDF Value: 0.18387075743895548\n",
      "Feature: parent, TF-IDF Value: 0.18387075743895548\n",
      "Feature: castle, TF-IDF Value: 0.18387075743895548\n",
      "Feature: charge, TF-IDF Value: 0.18387075743895548\n",
      "Feature: fritz, TF-IDF Value: 0.18387075743895548\n",
      "Feature: day, TF-IDF Value: 0.18387075743895548\n",
      "Feature: king, TF-IDF Value: 0.5516122723168664\n",
      "Feature: game, TF-IDF Value: 0.13983845038443202\n"
     ]
    },
    {
     "name": "stderr",
     "output_type": "stream",
     "text": [
      "/Users/keshen/opt/anaconda3/lib/python3.8/site-packages/sklearn/utils/deprecation.py:87: FutureWarning: Function get_feature_names is deprecated; get_feature_names is deprecated in 1.0 and will be removed in 1.2. Please use get_feature_names_out instead.\n",
      "  warnings.warn(msg, category=FutureWarning)\n"
     ]
    }
   ],
   "source": [
    "doc = [desc_1, desc_2, desc_3]\n",
    "doc = [preprocess(desc) for desc in doc]\n",
    "len_feature, feature_names, tfidf_matrix, vectorizer = getTFIDFVector(doc)\n",
    "print(len_feature, feature_names)\n",
    "desc_1_tfidf = tfidf_matrix[0].toarray()\n",
    "desc_2_tfidf = tfidf_matrix[1].toarray()\n",
    "desc_3_tfidf = tfidf_matrix[2].toarray()\n",
    "\n",
    "for i in range(3):\n",
    "    print([desc_1, desc_2, desc_3][i])\n",
    "    tfidf_vector = tfidf_matrix[i]\n",
    "    for feature_index, tfidf_value in zip(tfidf_vector.indices, tfidf_vector.data):\n",
    "        feature_name = feature_names[feature_index]\n",
    "        print(f\"Feature: {feature_name}, TF-IDF Value: {tfidf_value}\")"
   ]
  },
  {
   "cell_type": "code",
   "execution_count": 139,
   "id": "42f02406",
   "metadata": {},
   "outputs": [
    {
     "name": "stdout",
     "output_type": "stream",
     "text": [
      "[[0.42195326]]\n",
      "[[0.02270463]]\n"
     ]
    }
   ],
   "source": [
    "print(cosine_similarity(desc_1_tfidf, desc_2_tfidf))\n",
    "print(cosine_similarity(desc_1_tfidf, desc_3_tfidf))"
   ]
  },
  {
   "cell_type": "markdown",
   "id": "fa9493a3",
   "metadata": {},
   "source": [
    "# Blocking"
   ]
  },
  {
   "cell_type": "code",
   "execution_count": 140,
   "id": "3897bee8",
   "metadata": {},
   "outputs": [
    {
     "name": "stdout",
     "output_type": "stream",
     "text": [
      "Requirement already satisfied: pandas in /Users/keshen/opt/anaconda3/lib/python3.8/site-packages (1.1.3)\n",
      "Requirement already satisfied: python-dateutil>=2.7.3 in /Users/keshen/opt/anaconda3/lib/python3.8/site-packages (from pandas) (2.8.2)\n",
      "Requirement already satisfied: pytz>=2017.2 in /Users/keshen/opt/anaconda3/lib/python3.8/site-packages (from pandas) (2022.7)\n",
      "Requirement already satisfied: numpy>=1.15.4 in /Users/keshen/opt/anaconda3/lib/python3.8/site-packages (from pandas) (1.18.4)\n",
      "Requirement already satisfied: six>=1.5 in /Users/keshen/opt/anaconda3/lib/python3.8/site-packages (from python-dateutil>=2.7.3->pandas) (1.16.0)\n"
     ]
    }
   ],
   "source": [
    "!pip install pandas"
   ]
  },
  {
   "cell_type": "code",
   "execution_count": 141,
   "id": "85e67a37",
   "metadata": {},
   "outputs": [
    {
     "name": "stdout",
     "output_type": "stream",
     "text": [
      "['id', 'title', 'authors', 'venue', 'year'] (2616, 5)\n",
      "['id', 'title', 'authors', 'venue', 'year'] (2294, 5)\n"
     ]
    }
   ],
   "source": [
    "import pandas as pd\n",
    "df_dblp = pd.read_csv('DBLP-ACM/DBLP2.csv', encoding='latin1')\n",
    "df_acm = pd.read_csv('DBLP-ACM/ACM.csv', encoding='latin1')\n",
    "print(df_dblp.columns.tolist(), df_dblp.shape)\n",
    "print(df_acm.columns.tolist(), df_acm.shape)"
   ]
  },
  {
   "cell_type": "markdown",
   "id": "2cee82e7",
   "metadata": {},
   "source": [
    "### Blocking based on Exact Match"
   ]
  },
  {
   "cell_type": "code",
   "execution_count": 142,
   "id": "52c601a4",
   "metadata": {},
   "outputs": [
    {
     "name": "stdout",
     "output_type": "stream",
     "text": [
      "                     id_x                                              title  \\\n",
      "0    conf/vldb/PoosalaI96  Estimation of Query-Result Distribution and it...   \n",
      "1  conf/vldb/GardarinGT96  Cost-based Selection of Path Expression Proces...   \n",
      "2       conf/vldb/HoelS95  Benchmarking Spatial Join Operations with Spat...   \n",
      "3     conf/vldb/KemperK94          Dual-Buffering Strategies in Object Bases   \n",
      "4  journals/vldb/ChangG01  Approximate query mapping: Accounting for tran...   \n",
      "\n",
      "                                           authors_x  venue_x  year_x    id_y  \\\n",
      "0             Viswanath Poosala, Yannis E. Ioannidis     VLDB    1996  673321   \n",
      "1  Zhao-Hui Tang, Georges Gardarin, Jean-Robert G...     VLDB    1996  673484   \n",
      "2                          Erik G. Hoel, Hanan Samet     VLDB    1995  673135   \n",
      "3                     Alfons Kemper, Donald Kossmann     VLDB    1994  672977   \n",
      "4       Hector Garcia-Molina, Kevin Chen-Chuan Chang  VLDB J.    2001  767145   \n",
      "\n",
      "                                           authors_y  \\\n",
      "0             Viswanath Poosala, Yannis E. Ioannidis   \n",
      "1  Georges Gardarin, Jean-Robert Gruser, Zhao-Hui...   \n",
      "2                          Erik G. Hoel, Hanan Samet   \n",
      "3                     Alfons Kemper, Donald Kossmann   \n",
      "4  Kevin Chen-Chuan Chang, H&#233;ctor Garc&#237;...   \n",
      "\n",
      "                                             venue_y  year_y  \n",
      "0                              Very Large Data Bases    1996  \n",
      "1                              Very Large Data Bases    1996  \n",
      "2                              Very Large Data Bases    1995  \n",
      "3                              Very Large Data Bases    1994  \n",
      "4  The VLDB Journal &mdash; The International Jou...    2001   (988, 9)\n"
     ]
    }
   ],
   "source": [
    "merged_df = pd.merge(df_dblp, df_acm, on='title')\n",
    "print(merged_df.head(), merged_df.shape)"
   ]
  },
  {
   "cell_type": "markdown",
   "id": "29ef4286",
   "metadata": {},
   "source": [
    "### Token-based Blocking "
   ]
  },
  {
   "cell_type": "code",
   "execution_count": 143,
   "id": "c9360509",
   "metadata": {},
   "outputs": [],
   "source": [
    "# Filter df_acm and df_dblp to keep rows not present in merged_df\n",
    "merged_titles = merged_df['title'].values\n",
    "df_dblp = df_dblp[~df_dblp['title'].isin(merged_titles)]\n",
    "df_acm = df_acm[~df_acm['title'].isin(merged_titles)]"
   ]
  },
  {
   "cell_type": "code",
   "execution_count": 144,
   "id": "56bc93cc",
   "metadata": {},
   "outputs": [
    {
     "name": "stdout",
     "output_type": "stream",
     "text": [
      "['SIGMOD Record' 'VLDB' 'SIGMOD Conference' 'VLDB J.'\n",
      " 'ACM Trans. Database Syst.']\n",
      "['International Conference on Management of Data' 'ACM SIGMOD Record '\n",
      " 'ACM Transactions on Database Systems (TODS) '\n",
      " 'The VLDB Journal &mdash; The International Journal on Very Large Data Bases '\n",
      " 'Very Large Data Bases']\n"
     ]
    }
   ],
   "source": [
    "dblp_venue_unique_items = df_dblp['venue'].unique()\n",
    "print(dblp_venue_unique_items)\n",
    "\n",
    "acm_venue_unique_items = df_acm['venue'].unique()\n",
    "print(acm_venue_unique_items)"
   ]
  },
  {
   "cell_type": "code",
   "execution_count": 145,
   "id": "f25509a2",
   "metadata": {},
   "outputs": [
    {
     "name": "stdout",
     "output_type": "stream",
     "text": [
      "['International Conference on Management of Data' 'SIGMOD Record'\n",
      " 'ACM Trans. Database Syst.' 'VLDB J.' 'VLDB']\n"
     ]
    }
   ],
   "source": [
    "replacements = {\n",
    "    'ACM SIGMOD Record ': 'SIGMOD Record',\n",
    "    'Very Large Data Bases': 'VLDB',\n",
    "    'The VLDB Journal &mdash; The International Journal on Very Large Data Bases ': 'VLDB J.',\n",
    "    'ACM Transactions on Database Systems (TODS) ': 'ACM Trans. Database Syst.',\n",
    "    \n",
    "}\n",
    "\n",
    "df_acm['venue'] = df_acm['venue'].replace(replacements)\n",
    "print(df_acm['venue'].unique())"
   ]
  },
  {
   "cell_type": "code",
   "execution_count": 146,
   "id": "644f176b",
   "metadata": {},
   "outputs": [
    {
     "name": "stdout",
     "output_type": "stream",
     "text": [
      "(452, 5) (512, 5)\n",
      "(9, 5) (247, 5)\n",
      "(128, 5) (132, 5)\n",
      "(84, 5) (84, 5)\n"
     ]
    }
   ],
   "source": [
    "for venue in ['SIGMOD Record', 'VLDB', 'VLDB J.', 'ACM Trans. Database Syst.']:\n",
    "    filtered_dblp = df_dblp[df_dblp['venue'] == venue]\n",
    "    filtered_acm = df_acm[df_acm['venue'] == venue]\n",
    "    print(filtered_acm.shape, filtered_dblp.shape)"
   ]
  },
  {
   "cell_type": "code",
   "execution_count": 147,
   "id": "5b62376f",
   "metadata": {},
   "outputs": [],
   "source": [
    "def edit_dist_metrics(df1, df2, threshold):\n",
    "    '''\n",
    "    input:  DataFrame : df1\n",
    "            DataFrame : df2\n",
    "            float : threshold value for similarity score 0 <= threshold <= 1\n",
    "    '''\n",
    "    res = []\n",
    "    for i, row1 in df1.iterrows():\n",
    "        for j, row2 in df2.iterrows():\n",
    "            title1 = row1['title']\n",
    "            title2 = row2['title']\n",
    "            similarity_score1 = edit_distance.SequenceMatcher(title1.lower(), title2.lower()).ratio()\n",
    "            \n",
    "            authors1 = row1['authors']\n",
    "            authors2 = row2['authors']\n",
    "            similarity_score2 = edit_distance.SequenceMatcher(authors1.lower(), authors2.lower()).ratio()\n",
    "            \n",
    "            acmid = row1['id']\n",
    "            dblpid = row2['id']\n",
    "            if (similarity_score1+similarity_score2)/2 >= threshold:\n",
    "                res.append([acmid, dblpid, (similarity_score1+similarity_score2)/2])\n",
    "\n",
    "    df = pd.DataFrame(res, columns=['ACM id', 'DBLP id', 'Similarity Score'])\n",
    "    return df"
   ]
  },
  {
   "cell_type": "code",
   "execution_count": 148,
   "id": "8658d535",
   "metadata": {},
   "outputs": [],
   "source": [
    "filtered_acm_ACMTrans = filtered_acm[filtered_acm['venue'] == 'ACM Trans. Database Syst.']\n",
    "filtered_dblp_ACMTrans = filtered_dblp[filtered_dblp['venue'] == 'ACM Trans. Database Syst.']\n",
    "\n",
    "edit_dis = edit_dist_metrics(filtered_acm_ACMTrans, filtered_dblp_ACMTrans, 0.6)\n"
   ]
  },
  {
   "cell_type": "code",
   "execution_count": 149,
   "id": "4e0a7bce",
   "metadata": {},
   "outputs": [
    {
     "name": "stdout",
     "output_type": "stream",
     "text": [
      "    ACM id                            DBLP id  Similarity Score  ACM id Count  \\\n",
      "0   331986        journals/tods/MuralidharS99          1.000000             1   \n",
      "1   331984              journals/tods/DeySB99          0.843750             1   \n",
      "6   331989             journals/tods/WandSW99          0.694444             1   \n",
      "7   310710           journals/tods/DattaVCK99          0.822581             1   \n",
      "8   320252          journals/tods/GravanoGT99          0.723214             1   \n",
      "..     ...                                ...               ...           ...   \n",
      "79  232691            journals/tods/BellNNS96          0.853448             1   \n",
      "80  232692              journals/tods/GuoSW96          0.730769             1   \n",
      "81  232755          journals/tods/CiacciaTZ96          0.726190             1   \n",
      "82  232796               journals/tods/DeyS96          1.000000             1   \n",
      "83  232801  journals/tods/GhandeharizadehHJ96          0.870000             1   \n",
      "\n",
      "    DBLP id Count  \n",
      "0               1  \n",
      "1               1  \n",
      "6               1  \n",
      "7               1  \n",
      "8               1  \n",
      "..            ...  \n",
      "79              1  \n",
      "80              1  \n",
      "81              1  \n",
      "82              1  \n",
      "83              1  \n",
      "\n",
      "[72 rows x 5 columns]\n"
     ]
    }
   ],
   "source": [
    "acm_counts = edit_dis['ACM id'].value_counts().reset_index()\n",
    "dblp_counts = edit_dis['DBLP id'].value_counts().reset_index()\n",
    "\n",
    "# Rename the columns to avoid conflicts during merging\n",
    "acm_counts = acm_counts.rename(columns={'index': 'ACM id', 'ACM id': 'ACM id Count'})\n",
    "dblp_counts = dblp_counts.rename(columns={'index': 'DBLP id', 'DBLP id': 'DBLP id Count'})\n",
    "\n",
    "# Merge the count DataFrames with 'edit_dis' DataFrame\n",
    "merged_edit_dis = pd.merge(edit_dis, acm_counts, on='ACM id')\n",
    "merged_edit_dis = pd.merge(merged_edit_dis, dblp_counts, on='DBLP id')\n",
    "\n",
    "# Filter the DataFrame based on IDs that appear only once in both columns\n",
    "AMCTrans_Match = merged_edit_dis[(merged_edit_dis['ACM id Count'] == 1) & (merged_edit_dis['DBLP id Count'] == 1)]\n",
    "\n",
    "# Print the filtered DataFrame\n",
    "print(AMCTrans_Match)\n"
   ]
  },
  {
   "cell_type": "code",
   "execution_count": 150,
   "id": "f0b7f124",
   "metadata": {},
   "outputs": [
    {
     "name": "stdout",
     "output_type": "stream",
     "text": [
      "    ACM id                  DBLP id  Similarity Score  ACM id Count  \\\n",
      "2   331992     journals/tods/YanG99          1.000000             2   \n",
      "3   176573     journals/tods/YanG99          0.623147             2   \n",
      "4   331992     journals/tods/YanG94          0.717742             2   \n",
      "5   176573     journals/tods/YanG94          0.905405             2   \n",
      "32  569785      journals/tods/Kim94          0.666667             1   \n",
      "33  569784      journals/tods/Kim94          0.877778             1   \n",
      "43  211416     journals/tods/Chen95          0.686441             2   \n",
      "44  202110     journals/tods/Chen95          1.000000             2   \n",
      "45  211416    journals/tods/Chen95a          1.000000             2   \n",
      "46  202110    journals/tods/Chen95a          0.686441             2   \n",
      "59  185828  journals/tods/CeriFPT94          0.884615             2   \n",
      "60  185828  journals/tods/CeriFPT95          0.773718             2   \n",
      "\n",
      "    DBLP id Count  \n",
      "2               2  \n",
      "3               2  \n",
      "4               2  \n",
      "5               2  \n",
      "32              2  \n",
      "33              2  \n",
      "43              2  \n",
      "44              2  \n",
      "45              2  \n",
      "46              2  \n",
      "59              1  \n",
      "60              1  \n"
     ]
    }
   ],
   "source": [
    "filtered_edit_dis = merged_edit_dis[(merged_edit_dis['ACM id Count'] != 1) | (merged_edit_dis['DBLP id Count'] != 1)]\n",
    "print(filtered_edit_dis)"
   ]
  },
  {
   "cell_type": "code",
   "execution_count": 151,
   "id": "48921e89",
   "metadata": {},
   "outputs": [],
   "source": [
    "corpus1 = df_acm['title'].tolist()\n",
    "\n",
    "corpus2 = df_dblp['title'].tolist()\n",
    "\n",
    "corpus1.extend(corpus2)\n"
   ]
  },
  {
   "cell_type": "code",
   "execution_count": 159,
   "id": "ba280b4c",
   "metadata": {},
   "outputs": [
    {
     "name": "stdout",
     "output_type": "stream",
     "text": [
      "2781\n",
      "331992 journals/tods/YanG99\n",
      "The SIFT information dissemination system\n",
      "The SIFT Information Dissemination System\n",
      "1.0\n",
      "--------\n",
      "176573 journals/tods/YanG99\n",
      "Index structures for selective dissemination of information under the Boolean model\n",
      "The SIFT Information Dissemination System\n",
      "0.3190732006295047\n",
      "--------\n",
      "331992 journals/tods/YanG94\n",
      "The SIFT information dissemination system\n",
      "Index Structures for Selective Dissemination of Information Under the Boolean Model\n",
      "0.3190732006295047\n",
      "--------\n",
      "176573 journals/tods/YanG94\n",
      "Index structures for selective dissemination of information under the Boolean model\n",
      "Index Structures for Selective Dissemination of Information Under the Boolean Model\n",
      "1.0000000000000002\n",
      "--------\n",
      "569785 journals/tods/Kim94\n",
      "Editorial directons\n",
      "Charter and Scope\n",
      "0.0\n",
      "--------\n",
      "569784 journals/tods/Kim94\n",
      "Editorial: Charter and scope\n",
      "Charter and Scope\n",
      "0.8462024400098164\n",
      "--------\n",
      "211416 journals/tods/Chen95\n",
      "Query evaluation in deductive databases with alternating fixpoint semantics\n",
      "Declarative Updates of Relational Databases\n",
      "0.06070668203737432\n",
      "--------\n",
      "202110 journals/tods/Chen95\n",
      "Declarative updates of relational databases\n",
      "Declarative Updates of Relational Databases\n",
      "1.0000000000000002\n",
      "--------\n",
      "211416 journals/tods/Chen95a\n",
      "Query evaluation in deductive databases with alternating fixpoint semantics\n",
      "Query Evaluation in Deductive Databases with Alternating Fixpoint Semantics\n",
      "1.0000000000000002\n",
      "--------\n",
      "202110 journals/tods/Chen95a\n",
      "Declarative updates of relational databases\n",
      "Query Evaluation in Deductive Databases with Alternating Fixpoint Semantics\n",
      "0.06070668203737432\n",
      "--------\n",
      "185828 journals/tods/CeriFPT94\n",
      "Automatic generation of production rules for integrity maintenance\n",
      "Automatic Generation of Production Rules for Integrity Maintenance\n",
      "1.0\n",
      "--------\n",
      "185828 journals/tods/CeriFPT95\n",
      "Automatic generation of production rules for integrity maintenance\n",
      "Addendum to Automatic Generation of Production Rules for Integrity Maintenance\n",
      "0.8505768202796569\n",
      "--------\n"
     ]
    },
    {
     "name": "stderr",
     "output_type": "stream",
     "text": [
      "/Users/keshen/opt/anaconda3/lib/python3.8/site-packages/sklearn/utils/deprecation.py:87: FutureWarning: Function get_feature_names is deprecated; get_feature_names is deprecated in 1.0 and will be removed in 1.2. Please use get_feature_names_out instead.\n",
      "  warnings.warn(msg, category=FutureWarning)\n"
     ]
    }
   ],
   "source": [
    "len_feature, feature_names, tfidf_matrix, vectorizer = getTFIDFVector(corpus1)\n",
    "print(len_feature)\n",
    "# filtered_acm_ACMTrans, filtered_dblp_ACMTrans\n",
    "for i, row in filtered_edit_dis.iterrows():\n",
    "    print(row['ACM id'], row['DBLP id'])\n",
    "    title1 = filtered_acm_ACMTrans[filtered_acm_ACMTrans['id'] == row['ACM id']]['title'].tolist()[0]\n",
    "    title2 = filtered_dblp_ACMTrans[filtered_dblp_ACMTrans['id'] == row['DBLP id']]['title'].tolist()[0]\n",
    "    print(title1)\n",
    "    print(title2)\n",
    "    tfidf1 = vectorizer.transform([title1]).toarray()\n",
    "    tfidf2 = vectorizer.transform([title2]).toarray()\n",
    "    print(cosine_similarity(tfidf1, tfidf2)[0][0])\n",
    "    print('--------')\n",
    "    "
   ]
  },
  {
   "cell_type": "code",
   "execution_count": null,
   "id": "f98bd7a0",
   "metadata": {},
   "outputs": [],
   "source": []
  }
 ],
 "metadata": {
  "kernelspec": {
   "display_name": "Python 3 (ipykernel)",
   "language": "python",
   "name": "python3"
  },
  "language_info": {
   "codemirror_mode": {
    "name": "ipython",
    "version": 3
   },
   "file_extension": ".py",
   "mimetype": "text/x-python",
   "name": "python",
   "nbconvert_exporter": "python",
   "pygments_lexer": "ipython3",
   "version": "3.8.15"
  }
 },
 "nbformat": 4,
 "nbformat_minor": 5
}
